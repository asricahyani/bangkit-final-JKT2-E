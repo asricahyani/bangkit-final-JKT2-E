{
 "cells": [
  {
   "cell_type": "code",
   "execution_count": 1,
   "metadata": {},
   "outputs": [],
   "source": [
    "import tensorflow as tf\n",
    "import keras_preprocessing\n",
    "from keras_preprocessing import image\n",
    "from keras_preprocessing.image import ImageDataGenerator\n",
    "import os"
   ]
  },
  {
   "cell_type": "code",
   "execution_count": 2,
   "metadata": {},
   "outputs": [],
   "source": [
    "current_dir = os.getcwd()"
   ]
  },
  {
   "cell_type": "code",
   "execution_count": 3,
   "metadata": {},
   "outputs": [
    {
     "data": {
      "text/plain": [
       "'C:\\\\Users\\\\wavac\\\\Documents\\\\GitHub\\\\bangkit-final-JKT2-E'"
      ]
     },
     "execution_count": 3,
     "metadata": {},
     "output_type": "execute_result"
    }
   ],
   "source": [
    "current_dir"
   ]
  },
  {
   "cell_type": "code",
   "execution_count": 4,
   "metadata": {},
   "outputs": [
    {
     "name": "stdout",
     "output_type": "stream",
     "text": [
      "Found 69600 images belonging to 29 classes.\n",
      "Found 17400 images belonging to 29 classes.\n"
     ]
    }
   ],
   "source": [
    "TRAINING_DIR = current_dir+\"\\\\dataset\\\\asl_alphabet_train\\\\asl_alphabet_train\\\\\"\n",
    "training_datagen = ImageDataGenerator(\n",
    "      rescale = 1./255,\n",
    "\t  rotation_range=40,\n",
    "      width_shift_range=0.2,\n",
    "      height_shift_range=0.2,\n",
    "      shear_range=0.2,\n",
    "      zoom_range=0.2,\n",
    "      horizontal_flip=True,\n",
    "      fill_mode='nearest',\n",
    "      validation_split=0.2)\n",
    "\n",
    "# VALIDATION_DIR = current_dir+\"\\\\dataset\\\\asl_alphabet_test\\\\asl_alphabet_test\\\\\"\n",
    "# validation_datagen = ImageDataGenerator(rescale = 1./255)\n",
    "\n",
    "train_generator = training_datagen.flow_from_directory(\n",
    "\tTRAINING_DIR,\n",
    "\ttarget_size=(150,150),\n",
    "\tclass_mode='categorical',\n",
    "  batch_size=126,\n",
    "    subset='training'\n",
    ")\n",
    "\n",
    "validation_generator = training_datagen.flow_from_directory(\n",
    "\tTRAINING_DIR,\n",
    "\ttarget_size=(150,150),\n",
    "\tclass_mode='categorical',\n",
    "  batch_size=126,\n",
    "    subset='validation'\n",
    ")"
   ]
  },
  {
   "cell_type": "code",
   "execution_count": 5,
   "metadata": {},
   "outputs": [
    {
     "name": "stdout",
     "output_type": "stream",
     "text": [
      "Model: \"sequential\"\n",
      "_________________________________________________________________\n",
      "Layer (type)                 Output Shape              Param #   \n",
      "=================================================================\n",
      "conv2d (Conv2D)              (None, 148, 148, 64)      1792      \n",
      "_________________________________________________________________\n",
      "max_pooling2d (MaxPooling2D) (None, 74, 74, 64)        0         \n",
      "_________________________________________________________________\n",
      "conv2d_1 (Conv2D)            (None, 72, 72, 64)        36928     \n",
      "_________________________________________________________________\n",
      "max_pooling2d_1 (MaxPooling2 (None, 36, 36, 64)        0         \n",
      "_________________________________________________________________\n",
      "conv2d_2 (Conv2D)            (None, 34, 34, 128)       73856     \n",
      "_________________________________________________________________\n",
      "max_pooling2d_2 (MaxPooling2 (None, 17, 17, 128)       0         \n",
      "_________________________________________________________________\n",
      "conv2d_3 (Conv2D)            (None, 15, 15, 128)       147584    \n",
      "_________________________________________________________________\n",
      "max_pooling2d_3 (MaxPooling2 (None, 7, 7, 128)         0         \n",
      "_________________________________________________________________\n",
      "flatten (Flatten)            (None, 6272)              0         \n",
      "_________________________________________________________________\n",
      "dropout (Dropout)            (None, 6272)              0         \n",
      "_________________________________________________________________\n",
      "dense (Dense)                (None, 512)               3211776   \n",
      "_________________________________________________________________\n",
      "dense_1 (Dense)              (None, 29)                14877     \n",
      "=================================================================\n",
      "Total params: 3,486,813\n",
      "Trainable params: 3,486,813\n",
      "Non-trainable params: 0\n",
      "_________________________________________________________________\n"
     ]
    }
   ],
   "source": [
    "model = tf.keras.models.Sequential([\n",
    "    # Note the input shape is the desired size of the image 150x150 with 3 bytes color\n",
    "    # This is the first convolution\n",
    "    tf.keras.layers.Conv2D(64, (3,3), activation='relu', input_shape=(150, 150, 3)),\n",
    "    tf.keras.layers.MaxPooling2D(2, 2),\n",
    "    # The second convolution\n",
    "    tf.keras.layers.Conv2D(64, (3,3), activation='relu'),\n",
    "    tf.keras.layers.MaxPooling2D(2,2),\n",
    "    # The third convolution\n",
    "    tf.keras.layers.Conv2D(128, (3,3), activation='relu'),\n",
    "    tf.keras.layers.MaxPooling2D(2,2),\n",
    "    # The fourth convolution\n",
    "    tf.keras.layers.Conv2D(128, (3,3), activation='relu'),\n",
    "    tf.keras.layers.MaxPooling2D(2,2),\n",
    "    # Flatten the results to feed into a DNN\n",
    "    tf.keras.layers.Flatten(),\n",
    "    tf.keras.layers.Dropout(0.5),\n",
    "    # 512 neuron hidden layer\n",
    "    tf.keras.layers.Dense(512, activation='relu'),\n",
    "    tf.keras.layers.Dense(29, activation='softmax')\n",
    "])\n",
    "\n",
    "\n",
    "model.summary()"
   ]
  },
  {
   "cell_type": "code",
   "execution_count": 6,
   "metadata": {},
   "outputs": [
    {
     "name": "stdout",
     "output_type": "stream",
     "text": [
      "WARNING:tensorflow:sample_weight modes were coerced from\n",
      "  ...\n",
      "    to  \n",
      "  ['...']\n",
      "WARNING:tensorflow:sample_weight modes were coerced from\n",
      "  ...\n",
      "    to  \n",
      "  ['...']\n",
      "Train for 271 steps, validate for 3 steps\n",
      "Epoch 1/25\n",
      "271/271 [==============================] - 230s 850ms/step - loss: 3.0746 - accuracy: 0.1249 - val_loss: 2.9603 - val_accuracy: 0.1772\n",
      "Epoch 2/25\n",
      "271/271 [==============================] - 214s 791ms/step - loss: 2.2328 - accuracy: 0.3316 - val_loss: 2.1972 - val_accuracy: 0.3571\n",
      "Epoch 3/25\n",
      "271/271 [==============================] - 208s 767ms/step - loss: 1.6798 - accuracy: 0.4792 - val_loss: 2.0707 - val_accuracy: 0.3810\n",
      "Epoch 4/25\n",
      "271/271 [==============================] - 207s 765ms/step - loss: 1.3090 - accuracy: 0.5805 - val_loss: 1.3900 - val_accuracy: 0.5556\n",
      "Epoch 5/25\n",
      "271/271 [==============================] - 203s 748ms/step - loss: 1.0468 - accuracy: 0.6577 - val_loss: 1.3529 - val_accuracy: 0.5582\n",
      "Epoch 6/25\n",
      "271/271 [==============================] - 202s 747ms/step - loss: 0.8784 - accuracy: 0.7128 - val_loss: 1.1427 - val_accuracy: 0.6111\n",
      "Epoch 7/25\n",
      "271/271 [==============================] - 203s 748ms/step - loss: 0.7498 - accuracy: 0.7514 - val_loss: 1.1701 - val_accuracy: 0.6508\n",
      "Epoch 8/25\n",
      "271/271 [==============================] - 202s 746ms/step - loss: 0.6489 - accuracy: 0.7884 - val_loss: 1.0135 - val_accuracy: 0.6561\n",
      "Epoch 9/25\n",
      "271/271 [==============================] - 201s 743ms/step - loss: 0.5764 - accuracy: 0.8097 - val_loss: 0.8620 - val_accuracy: 0.7328\n",
      "Epoch 10/25\n",
      "271/271 [==============================] - 220s 814ms/step - loss: 0.5241 - accuracy: 0.8246 - val_loss: 1.6431 - val_accuracy: 0.5794\n",
      "Epoch 11/25\n",
      "271/271 [==============================] - 206s 761ms/step - loss: 0.4789 - accuracy: 0.8410 - val_loss: 0.9104 - val_accuracy: 0.7275\n",
      "Epoch 12/25\n",
      "271/271 [==============================] - 205s 756ms/step - loss: 0.4480 - accuracy: 0.8518 - val_loss: 0.7959 - val_accuracy: 0.7593\n",
      "Epoch 13/25\n",
      "271/271 [==============================] - 204s 752ms/step - loss: 0.4108 - accuracy: 0.8645 - val_loss: 0.8889 - val_accuracy: 0.7169\n",
      "Epoch 14/25\n",
      "271/271 [==============================] - 202s 745ms/step - loss: 0.3808 - accuracy: 0.8748 - val_loss: 0.8426 - val_accuracy: 0.7619\n",
      "Epoch 15/25\n",
      "271/271 [==============================] - 206s 759ms/step - loss: 0.3617 - accuracy: 0.8812 - val_loss: 0.6842 - val_accuracy: 0.8016\n",
      "Epoch 16/25\n",
      "271/271 [==============================] - 203s 750ms/step - loss: 0.3442 - accuracy: 0.8870 - val_loss: 0.9029 - val_accuracy: 0.7434\n",
      "Epoch 17/25\n",
      "271/271 [==============================] - 203s 748ms/step - loss: 0.3253 - accuracy: 0.8922 - val_loss: 0.9377 - val_accuracy: 0.7487\n",
      "Epoch 18/25\n",
      "271/271 [==============================] - 202s 746ms/step - loss: 0.3175 - accuracy: 0.8963 - val_loss: 0.7321 - val_accuracy: 0.7540\n",
      "Epoch 19/25\n",
      "271/271 [==============================] - 201s 741ms/step - loss: 0.2981 - accuracy: 0.9027 - val_loss: 0.8424 - val_accuracy: 0.7778\n",
      "Epoch 20/25\n",
      "271/271 [==============================] - 216s 798ms/step - loss: 0.2884 - accuracy: 0.9054 - val_loss: 0.6723 - val_accuracy: 0.7910\n",
      "Epoch 21/25\n",
      "271/271 [==============================] - 206s 758ms/step - loss: 0.2901 - accuracy: 0.9085 - val_loss: 0.7802 - val_accuracy: 0.7460\n",
      "Epoch 22/25\n",
      "271/271 [==============================] - 210s 775ms/step - loss: 0.2824 - accuracy: 0.9094 - val_loss: 0.7070 - val_accuracy: 0.7831\n",
      "Epoch 23/25\n",
      "271/271 [==============================] - 209s 771ms/step - loss: 0.2779 - accuracy: 0.9094 - val_loss: 0.7972 - val_accuracy: 0.7804\n",
      "Epoch 24/25\n",
      "271/271 [==============================] - 209s 770ms/step - loss: 0.2600 - accuracy: 0.9159 - val_loss: 0.8427 - val_accuracy: 0.7672\n",
      "Epoch 25/25\n",
      "271/271 [==============================] - 204s 754ms/step - loss: 0.2690 - accuracy: 0.9160 - val_loss: 0.9806 - val_accuracy: 0.8175\n"
     ]
    }
   ],
   "source": [
    "model.compile(loss = 'categorical_crossentropy', optimizer='rmsprop', metrics=['accuracy'])\n",
    "\n",
    "history = model.fit(train_generator, epochs=25, steps_per_epoch=271, validation_data = validation_generator, verbose = 1, validation_steps=3)\n",
    "\n",
    "model.save(current_dir+\"\\\\model.h5\")"
   ]
  },
  {
   "cell_type": "code",
   "execution_count": 7,
   "metadata": {},
   "outputs": [
    {
     "ename": "ModuleNotFoundError",
     "evalue": "No module named 'matplotlib'",
     "output_type": "error",
     "traceback": [
      "\u001b[1;31m---------------------------------------------------------------------------\u001b[0m",
      "\u001b[1;31mModuleNotFoundError\u001b[0m                       Traceback (most recent call last)",
      "\u001b[1;32m<ipython-input-7-c1c90db2e0b9>\u001b[0m in \u001b[0;36m<module>\u001b[1;34m\u001b[0m\n\u001b[1;32m----> 1\u001b[1;33m \u001b[1;32mimport\u001b[0m \u001b[0mmatplotlib\u001b[0m\u001b[1;33m.\u001b[0m\u001b[0mpyplot\u001b[0m \u001b[1;32mas\u001b[0m \u001b[0mplt\u001b[0m\u001b[1;33m\u001b[0m\u001b[1;33m\u001b[0m\u001b[0m\n\u001b[0m\u001b[0;32m      2\u001b[0m \u001b[0macc\u001b[0m \u001b[1;33m=\u001b[0m \u001b[0mhistory\u001b[0m\u001b[1;33m.\u001b[0m\u001b[0mhistory\u001b[0m\u001b[1;33m[\u001b[0m\u001b[1;34m'accuracy'\u001b[0m\u001b[1;33m]\u001b[0m\u001b[1;33m\u001b[0m\u001b[1;33m\u001b[0m\u001b[0m\n\u001b[0;32m      3\u001b[0m \u001b[0mval_acc\u001b[0m \u001b[1;33m=\u001b[0m \u001b[0mhistory\u001b[0m\u001b[1;33m.\u001b[0m\u001b[0mhistory\u001b[0m\u001b[1;33m[\u001b[0m\u001b[1;34m'val_accuracy'\u001b[0m\u001b[1;33m]\u001b[0m\u001b[1;33m\u001b[0m\u001b[1;33m\u001b[0m\u001b[0m\n\u001b[0;32m      4\u001b[0m \u001b[0mloss\u001b[0m \u001b[1;33m=\u001b[0m \u001b[0mhistory\u001b[0m\u001b[1;33m.\u001b[0m\u001b[0mhistory\u001b[0m\u001b[1;33m[\u001b[0m\u001b[1;34m'loss'\u001b[0m\u001b[1;33m]\u001b[0m\u001b[1;33m\u001b[0m\u001b[1;33m\u001b[0m\u001b[0m\n\u001b[0;32m      5\u001b[0m \u001b[0mval_loss\u001b[0m \u001b[1;33m=\u001b[0m \u001b[0mhistory\u001b[0m\u001b[1;33m.\u001b[0m\u001b[0mhistory\u001b[0m\u001b[1;33m[\u001b[0m\u001b[1;34m'val_loss'\u001b[0m\u001b[1;33m]\u001b[0m\u001b[1;33m\u001b[0m\u001b[1;33m\u001b[0m\u001b[0m\n",
      "\u001b[1;31mModuleNotFoundError\u001b[0m: No module named 'matplotlib'"
     ]
    }
   ],
   "source": [
    "import matplotlib.pyplot as plt\n",
    "acc = history.history['accuracy']\n",
    "val_acc = history.history['val_accuracy']\n",
    "loss = history.history['loss']\n",
    "val_loss = history.history['val_loss']\n",
    "\n",
    "epochs = range(len(acc))\n",
    "\n",
    "plt.plot(epochs, acc, 'r', label='Training accuracy')\n",
    "plt.plot(epochs, val_acc, 'b', label='Validation accuracy')\n",
    "plt.title('Training and validation accuracy')\n",
    "plt.legend(loc=0)\n",
    "plt.figure()\n",
    "\n",
    "\n",
    "plt.show()"
   ]
  },
  {
   "cell_type": "code",
   "execution_count": null,
   "metadata": {},
   "outputs": [],
   "source": []
  }
 ],
 "metadata": {
  "kernelspec": {
   "display_name": "Python 3",
   "language": "python",
   "name": "python3"
  },
  "language_info": {
   "codemirror_mode": {
    "name": "ipython",
    "version": 3
   },
   "file_extension": ".py",
   "mimetype": "text/x-python",
   "name": "python",
   "nbconvert_exporter": "python",
   "pygments_lexer": "ipython3",
   "version": "3.7.7"
  }
 },
 "nbformat": 4,
 "nbformat_minor": 4
}
